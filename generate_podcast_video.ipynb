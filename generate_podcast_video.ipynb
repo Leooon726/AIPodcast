{
 "cells": [
  {
   "cell_type": "code",
   "execution_count": 1,
   "metadata": {},
   "outputs": [
    {
     "ename": "OSError",
     "evalue": "[Errno 22] Invalid argument: 'D:\\\\Study\\\\AIAgent\\\\AIPodcast\\\\output\\test_long.json'",
     "output_type": "error",
     "traceback": [
      "\u001b[1;31m---------------------------------------------------------------------------\u001b[0m",
      "\u001b[1;31mOSError\u001b[0m                                   Traceback (most recent call last)",
      "Cell \u001b[1;32mIn[1], line 10\u001b[0m\n\u001b[0;32m      8\u001b[0m video_height \u001b[38;5;241m=\u001b[39m \u001b[38;5;241m1080\u001b[39m\n\u001b[0;32m      9\u001b[0m key_frame_path \u001b[38;5;241m=\u001b[39m \u001b[38;5;124m'\u001b[39m\u001b[38;5;124mD:\u001b[39m\u001b[38;5;124m\\\u001b[39m\u001b[38;5;124mStudy\u001b[39m\u001b[38;5;124m\\\u001b[39m\u001b[38;5;124mAIAgent\u001b[39m\u001b[38;5;124m\\\u001b[39m\u001b[38;5;124mAIPodcast\u001b[39m\u001b[38;5;130;01m\\a\u001b[39;00m\u001b[38;5;124mssets\u001b[39m\u001b[38;5;130;01m\\r\u001b[39;00m\u001b[38;5;124maining_window_img.jpg\u001b[39m\u001b[38;5;124m'\u001b[39m\n\u001b[1;32m---> 10\u001b[0m preparation \u001b[38;5;241m=\u001b[39m \u001b[43mPodcastDataPreparation\u001b[49m\u001b[43m(\u001b[49m\u001b[43mdata_json_path\u001b[49m\u001b[43m,\u001b[49m\u001b[43m \u001b[49m\u001b[43moutput_dir\u001b[49m\u001b[43m,\u001b[49m\u001b[43m \u001b[49m\u001b[43mvideo_width\u001b[49m\u001b[43m,\u001b[49m\u001b[43m \u001b[49m\u001b[43mvideo_height\u001b[49m\u001b[43m,\u001b[49m\u001b[43m \u001b[49m\u001b[43mkey_frame_path\u001b[49m\u001b[43m)\u001b[49m\n\u001b[0;32m     11\u001b[0m video_info_config \u001b[38;5;241m=\u001b[39m preparation\u001b[38;5;241m.\u001b[39mprepare_data()\n\u001b[0;32m     13\u001b[0m crafter \u001b[38;5;241m=\u001b[39m VideoCrafter(video_info_config)\n",
      "File \u001b[1;32md:\\Study\\AIAgent\\AIPodcast\\podcast_data_preparation.py:16\u001b[0m, in \u001b[0;36mPodcastDataPreparation.__init__\u001b[1;34m(self, json_path, output_dir, video_width, video_height, key_frame_path)\u001b[0m\n\u001b[0;32m     15\u001b[0m \u001b[38;5;28;01mdef\u001b[39;00m \u001b[38;5;21m__init__\u001b[39m(\u001b[38;5;28mself\u001b[39m, json_path, output_dir, video_width, video_height, key_frame_path):\n\u001b[1;32m---> 16\u001b[0m     \u001b[38;5;28mself\u001b[39m\u001b[38;5;241m.\u001b[39murl_data_list \u001b[38;5;241m=\u001b[39m \u001b[43mPodcastDataJsonReader\u001b[49m\u001b[43m(\u001b[49m\u001b[43mjson_path\u001b[49m\u001b[43m)\u001b[49m\u001b[38;5;241;43m.\u001b[39;49m\u001b[43mread_json\u001b[49m\u001b[43m(\u001b[49m\u001b[43m)\u001b[49m\n\u001b[0;32m     17\u001b[0m     \u001b[38;5;28mself\u001b[39m\u001b[38;5;241m.\u001b[39moutput_dir \u001b[38;5;241m=\u001b[39m output_dir\n\u001b[0;32m     18\u001b[0m     \u001b[38;5;28;01mif\u001b[39;00m \u001b[38;5;129;01mnot\u001b[39;00m os\u001b[38;5;241m.\u001b[39mpath\u001b[38;5;241m.\u001b[39mexists(\u001b[38;5;28mself\u001b[39m\u001b[38;5;241m.\u001b[39moutput_dir):\n",
      "File \u001b[1;32md:\\Study\\AIAgent\\AIPodcast\\podcast_data_preparation.py:10\u001b[0m, in \u001b[0;36mPodcastDataJsonReader.read_json\u001b[1;34m(self)\u001b[0m\n\u001b[0;32m      9\u001b[0m \u001b[38;5;28;01mdef\u001b[39;00m \u001b[38;5;21mread_json\u001b[39m(\u001b[38;5;28mself\u001b[39m):\n\u001b[1;32m---> 10\u001b[0m     \u001b[38;5;28;01mwith\u001b[39;00m \u001b[38;5;28;43mopen\u001b[39;49m\u001b[43m(\u001b[49m\u001b[38;5;28;43mself\u001b[39;49m\u001b[38;5;241;43m.\u001b[39;49m\u001b[43mjson_path\u001b[49m\u001b[43m,\u001b[49m\u001b[43m \u001b[49m\u001b[38;5;124;43m'\u001b[39;49m\u001b[38;5;124;43mr\u001b[39;49m\u001b[38;5;124;43m'\u001b[39;49m\u001b[43m,\u001b[49m\u001b[43m \u001b[49m\u001b[43mencoding\u001b[49m\u001b[38;5;241;43m=\u001b[39;49m\u001b[38;5;124;43m'\u001b[39;49m\u001b[38;5;124;43mutf-8\u001b[39;49m\u001b[38;5;124;43m'\u001b[39;49m\u001b[43m)\u001b[49m \u001b[38;5;28;01mas\u001b[39;00m f:\n\u001b[0;32m     11\u001b[0m         \u001b[38;5;28;01mreturn\u001b[39;00m json\u001b[38;5;241m.\u001b[39mload(f)[\u001b[38;5;124m'\u001b[39m\u001b[38;5;124mresult\u001b[39m\u001b[38;5;124m'\u001b[39m]\n",
      "\u001b[1;31mOSError\u001b[0m: [Errno 22] Invalid argument: 'D:\\\\Study\\\\AIAgent\\\\AIPodcast\\\\output\\test_long.json'"
     ]
    }
   ],
   "source": [
    "from podcast_data_preparation import PodcastDataPreparation\n",
    "from video_crafter import VideoCrafter\n",
    "\n",
    "\n",
    "data_json_path = 'D:\\Study\\AIAgent\\AIPodcast\\output\\\\test_long.json'\n",
    "output_dir = 'D:\\Study\\AIAgent\\AIPodcast\\output\\episode_test'\n",
    "video_width = 1920\n",
    "video_height = 1080\n",
    "key_frame_path = 'D:\\Study\\AIAgent\\AIPodcast\\\\assets\\\\raining_window_img.jpg'\n",
    "preparation = PodcastDataPreparation(data_json_path, output_dir, video_width, video_height, key_frame_path)\n",
    "video_info_config = preparation.prepare_data()\n",
    "\n",
    "crafter = VideoCrafter(video_info_config)\n",
    "crafter.create_video()\n",
    "\n"
   ]
  }
 ],
 "metadata": {
  "kernelspec": {
   "display_name": "Python 3",
   "language": "python",
   "name": "python3"
  },
  "language_info": {
   "codemirror_mode": {
    "name": "ipython",
    "version": 3
   },
   "file_extension": ".py",
   "mimetype": "text/x-python",
   "name": "python",
   "nbconvert_exporter": "python",
   "pygments_lexer": "ipython3",
   "version": "3.10.6"
  }
 },
 "nbformat": 4,
 "nbformat_minor": 2
}
