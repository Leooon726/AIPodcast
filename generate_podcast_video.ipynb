{
 "cells": [
  {
   "cell_type": "code",
   "execution_count": 1,
   "metadata": {},
   "outputs": [
    {
     "name": "stdout",
     "output_type": "stream",
     "text": [
      "Downloaded https://lf-bot-studio-plugin-resource.coze.cn/obj/bot-studio-platform-plugin-tos/sami/tts/2d27e70c6e32483495e322d45375e37d.mp3 to D:\\Study\\AIAgent\\AIPodcast\\output\\episode_test\\downloaded_audios\\2d27e70c6e32483495e322d45375e37d.mp3\n",
      "Downloaded https://lf-bot-studio-plugin-resource.coze.cn/obj/bot-studio-platform-plugin-tos/sami/tts/933fed90b0724a7e9fcd9c6f439c1b63.mp3 to D:\\Study\\AIAgent\\AIPodcast\\output\\episode_test\\downloaded_audios\\933fed90b0724a7e9fcd9c6f439c1b63.mp3\n",
      "Downloaded https://lf-bot-studio-plugin-resource.coze.cn/obj/bot-studio-platform-plugin-tos/sami/tts/71c6965d519c4441a15dbec4ff68b9af.mp3 to D:\\Study\\AIAgent\\AIPodcast\\output\\episode_test\\downloaded_audios\\71c6965d519c4441a15dbec4ff68b9af.mp3\n",
      "Downloaded https://lf-bot-studio-plugin-resource.coze.cn/obj/bot-studio-platform-plugin-tos/sami/tts/38ae16854e7741feab90255fbb1d2700.mp3 to D:\\Study\\AIAgent\\AIPodcast\\output\\episode_test\\downloaded_audios\\38ae16854e7741feab90255fbb1d2700.mp3\n",
      "Downloaded https://lf-bot-studio-plugin-resource.coze.cn/obj/bot-studio-platform-plugin-tos/sami/tts/d78d53fc4f7948048fb1bf54b003cdc9.mp3 to D:\\Study\\AIAgent\\AIPodcast\\output\\episode_test\\downloaded_audios\\d78d53fc4f7948048fb1bf54b003cdc9.mp3\n",
      "Downloaded https://lf-bot-studio-plugin-resource.coze.cn/obj/bot-studio-platform-plugin-tos/sami/tts/66b90e5dac5e4c288481833dedbe84d0.mp3 to D:\\Study\\AIAgent\\AIPodcast\\output\\episode_test\\downloaded_audios\\66b90e5dac5e4c288481833dedbe84d0.mp3\n",
      "Downloaded https://lf-bot-studio-plugin-resource.coze.cn/obj/bot-studio-platform-plugin-tos/sami/tts/05c38da90b5a47a5b83a13dd3d7d5202.mp3 to D:\\Study\\AIAgent\\AIPodcast\\output\\episode_test\\downloaded_audios\\05c38da90b5a47a5b83a13dd3d7d5202.mp3\n",
      "Downloaded https://lf-bot-studio-plugin-resource.coze.cn/obj/bot-studio-platform-plugin-tos/sami/tts/c553f31e6dc143ff845434f59848a540.mp3 to D:\\Study\\AIAgent\\AIPodcast\\output\\episode_test\\downloaded_audios\\c553f31e6dc143ff845434f59848a540.mp3\n",
      "Downloaded https://lf-bot-studio-plugin-resource.coze.cn/obj/bot-studio-platform-plugin-tos/sami/tts/5c03cdce06814c19aa82c66cba3401c1.mp3 to D:\\Study\\AIAgent\\AIPodcast\\output\\episode_test\\downloaded_audios\\5c03cdce06814c19aa82c66cba3401c1.mp3\n",
      "Downloaded https://lf-bot-studio-plugin-resource.coze.cn/obj/bot-studio-platform-plugin-tos/sami/tts/1b628e22456941de8392f891aa630d9a.mp3 to D:\\Study\\AIAgent\\AIPodcast\\output\\episode_test\\downloaded_audios\\1b628e22456941de8392f891aa630d9a.mp3\n",
      "Downloaded https://lf-bot-studio-plugin-resource.coze.cn/obj/bot-studio-platform-plugin-tos/sami/tts/e9c437fada764d228c15fbaf9a085440.mp3 to D:\\Study\\AIAgent\\AIPodcast\\output\\episode_test\\downloaded_audios\\e9c437fada764d228c15fbaf9a085440.mp3\n",
      "Downloaded https://lf-bot-studio-plugin-resource.coze.cn/obj/bot-studio-platform-plugin-tos/sami/tts/1130497052f04b4c9e7f33b2f57225f4.mp3 to D:\\Study\\AIAgent\\AIPodcast\\output\\episode_test\\downloaded_audios\\1130497052f04b4c9e7f33b2f57225f4.mp3\n",
      "Downloaded https://lf-bot-studio-plugin-resource.coze.cn/obj/bot-studio-platform-plugin-tos/sami/tts/a57af8be34254b8e8d367c4bc43c1efa.mp3 to D:\\Study\\AIAgent\\AIPodcast\\output\\episode_test\\downloaded_audios\\a57af8be34254b8e8d367c4bc43c1efa.mp3\n",
      "Downloaded https://lf-bot-studio-plugin-resource.coze.cn/obj/bot-studio-platform-plugin-tos/sami/tts/ab0821bac15742789c467dfcc6b6cd7e.mp3 to D:\\Study\\AIAgent\\AIPodcast\\output\\episode_test\\downloaded_audios\\ab0821bac15742789c467dfcc6b6cd7e.mp3\n",
      "Downloaded https://lf-bot-studio-plugin-resource.coze.cn/obj/bot-studio-platform-plugin-tos/sami/tts/156646ed34f9430abcd90fddb4aae40f.mp3 to D:\\Study\\AIAgent\\AIPodcast\\output\\episode_test\\downloaded_audios\\156646ed34f9430abcd90fddb4aae40f.mp3\n",
      "Downloaded https://lf-bot-studio-plugin-resource.coze.cn/obj/bot-studio-platform-plugin-tos/sami/tts/51a1794d7ef44da693454567b187dd3d.mp3 to D:\\Study\\AIAgent\\AIPodcast\\output\\episode_test\\downloaded_audios\\51a1794d7ef44da693454567b187dd3d.mp3\n",
      "Downloaded https://lf-bot-studio-plugin-resource.coze.cn/obj/bot-studio-platform-plugin-tos/sami/tts/b1226996d72648f6bcbb441533f6b151.mp3 to D:\\Study\\AIAgent\\AIPodcast\\output\\episode_test\\downloaded_audios\\b1226996d72648f6bcbb441533f6b151.mp3\n",
      "Downloaded https://lf-bot-studio-plugin-resource.coze.cn/obj/bot-studio-platform-plugin-tos/sami/tts/2b625210f2124f05808abf75c0fca9ee.mp3 to D:\\Study\\AIAgent\\AIPodcast\\output\\episode_test\\downloaded_audios\\2b625210f2124f05808abf75c0fca9ee.mp3\n",
      "Downloaded https://lf-bot-studio-plugin-resource.coze.cn/obj/bot-studio-platform-plugin-tos/sami/tts/681fbc31a7d14a66a31486347b4c363c.mp3 to D:\\Study\\AIAgent\\AIPodcast\\output\\episode_test\\downloaded_audios\\681fbc31a7d14a66a31486347b4c363c.mp3\n",
      "Downloaded https://lf-bot-studio-plugin-resource.coze.cn/obj/bot-studio-platform-plugin-tos/sami/tts/c87a2e73ced249549a30a957b6b2e448.mp3 to D:\\Study\\AIAgent\\AIPodcast\\output\\episode_test\\downloaded_audios\\c87a2e73ced249549a30a957b6b2e448.mp3\n",
      "Downloaded https://lf-bot-studio-plugin-resource.coze.cn/obj/bot-studio-platform-plugin-tos/sami/tts/022099c886aa47e3b4c2a08c2f3fcf03.mp3 to D:\\Study\\AIAgent\\AIPodcast\\output\\episode_test\\downloaded_audios\\022099c886aa47e3b4c2a08c2f3fcf03.mp3\n",
      "Downloaded https://lf-bot-studio-plugin-resource.coze.cn/obj/bot-studio-platform-plugin-tos/sami/tts/54c5539dbcd84780910f16c226eb1608.mp3 to D:\\Study\\AIAgent\\AIPodcast\\output\\episode_test\\downloaded_audios\\54c5539dbcd84780910f16c226eb1608.mp3\n",
      "Downloaded https://lf-bot-studio-plugin-resource.coze.cn/obj/bot-studio-platform-plugin-tos/sami/tts/4cc80e0b54424f76b21b74319b7a1beb.mp3 to D:\\Study\\AIAgent\\AIPodcast\\output\\episode_test\\downloaded_audios\\4cc80e0b54424f76b21b74319b7a1beb.mp3\n",
      "Downloaded https://lf-bot-studio-plugin-resource.coze.cn/obj/bot-studio-platform-plugin-tos/sami/tts/7ad9a3db0be9463cbd48f0850bfb483c.mp3 to D:\\Study\\AIAgent\\AIPodcast\\output\\episode_test\\downloaded_audios\\7ad9a3db0be9463cbd48f0850bfb483c.mp3\n",
      "Downloaded https://lf-bot-studio-plugin-resource.coze.cn/obj/bot-studio-platform-plugin-tos/sami/tts/9225202e2fec4e69a06650ed6bcc8bfd.mp3 to D:\\Study\\AIAgent\\AIPodcast\\output\\episode_test\\downloaded_audios\\9225202e2fec4e69a06650ed6bcc8bfd.mp3\n",
      "Downloaded https://lf-bot-studio-plugin-resource.coze.cn/obj/bot-studio-platform-plugin-tos/sami/tts/8aef78ad14c44b149451d2cbfe90d006.mp3 to D:\\Study\\AIAgent\\AIPodcast\\output\\episode_test\\downloaded_audios\\8aef78ad14c44b149451d2cbfe90d006.mp3\n",
      "Downloaded https://lf-bot-studio-plugin-resource.coze.cn/obj/bot-studio-platform-plugin-tos/sami/tts/2455087ced8a419b986b6a35b21409f8.mp3 to D:\\Study\\AIAgent\\AIPodcast\\output\\episode_test\\downloaded_audios\\2455087ced8a419b986b6a35b21409f8.mp3\n",
      "Downloaded https://lf-bot-studio-plugin-resource.coze.cn/obj/bot-studio-platform-plugin-tos/sami/tts/bdbc92bb4d1b48f69f8cb46131330ecf.mp3 to D:\\Study\\AIAgent\\AIPodcast\\output\\episode_test\\downloaded_audios\\bdbc92bb4d1b48f69f8cb46131330ecf.mp3\n",
      "File D:\\Study\\AIAgent\\AIPodcast\\output\\episode_test\\raining_window_img_resized.jpg already exists\n",
      "Image resized and saved to D:\\Study\\AIAgent\\AIPodcast\\output\\episode_test\\raining_window_img_resized.jpg\n",
      "File D:\\Study\\AIAgent\\AIPodcast\\output\\episode_test\\raining_window_img_resized.jpg already exists\n",
      "Image resized and saved to D:\\Study\\AIAgent\\AIPodcast\\output\\episode_test\\raining_window_img_resized.jpg\n",
      "File D:\\Study\\AIAgent\\AIPodcast\\output\\episode_test\\raining_window_img_resized.jpg already exists\n",
      "Image resized and saved to D:\\Study\\AIAgent\\AIPodcast\\output\\episode_test\\raining_window_img_resized.jpg\n",
      "File D:\\Study\\AIAgent\\AIPodcast\\output\\episode_test\\raining_window_img_resized.jpg already exists\n",
      "Image resized and saved to D:\\Study\\AIAgent\\AIPodcast\\output\\episode_test\\raining_window_img_resized.jpg\n",
      "File D:\\Study\\AIAgent\\AIPodcast\\output\\episode_test\\raining_window_img_resized.jpg already exists\n",
      "Image resized and saved to D:\\Study\\AIAgent\\AIPodcast\\output\\episode_test\\raining_window_img_resized.jpg\n",
      "File D:\\Study\\AIAgent\\AIPodcast\\output\\episode_test\\raining_window_img_resized.jpg already exists\n",
      "Image resized and saved to D:\\Study\\AIAgent\\AIPodcast\\output\\episode_test\\raining_window_img_resized.jpg\n",
      "File D:\\Study\\AIAgent\\AIPodcast\\output\\episode_test\\raining_window_img_resized.jpg already exists\n",
      "Image resized and saved to D:\\Study\\AIAgent\\AIPodcast\\output\\episode_test\\raining_window_img_resized.jpg\n",
      "File D:\\Study\\AIAgent\\AIPodcast\\output\\episode_test\\raining_window_img_resized.jpg already exists\n",
      "Image resized and saved to D:\\Study\\AIAgent\\AIPodcast\\output\\episode_test\\raining_window_img_resized.jpg\n",
      "File D:\\Study\\AIAgent\\AIPodcast\\output\\episode_test\\raining_window_img_resized.jpg already exists\n",
      "Image resized and saved to D:\\Study\\AIAgent\\AIPodcast\\output\\episode_test\\raining_window_img_resized.jpg\n",
      "File D:\\Study\\AIAgent\\AIPodcast\\output\\episode_test\\raining_window_img_resized.jpg already exists\n",
      "Image resized and saved to D:\\Study\\AIAgent\\AIPodcast\\output\\episode_test\\raining_window_img_resized.jpg\n",
      "File D:\\Study\\AIAgent\\AIPodcast\\output\\episode_test\\raining_window_img_resized.jpg already exists\n",
      "Image resized and saved to D:\\Study\\AIAgent\\AIPodcast\\output\\episode_test\\raining_window_img_resized.jpg\n",
      "File D:\\Study\\AIAgent\\AIPodcast\\output\\episode_test\\raining_window_img_resized.jpg already exists\n",
      "Image resized and saved to D:\\Study\\AIAgent\\AIPodcast\\output\\episode_test\\raining_window_img_resized.jpg\n",
      "File D:\\Study\\AIAgent\\AIPodcast\\output\\episode_test\\raining_window_img_resized.jpg already exists\n",
      "Image resized and saved to D:\\Study\\AIAgent\\AIPodcast\\output\\episode_test\\raining_window_img_resized.jpg\n",
      "File D:\\Study\\AIAgent\\AIPodcast\\output\\episode_test\\raining_window_img_resized.jpg already exists\n",
      "Image resized and saved to D:\\Study\\AIAgent\\AIPodcast\\output\\episode_test\\raining_window_img_resized.jpg\n",
      "File D:\\Study\\AIAgent\\AIPodcast\\output\\episode_test\\raining_window_img_resized.jpg already exists\n",
      "Image resized and saved to D:\\Study\\AIAgent\\AIPodcast\\output\\episode_test\\raining_window_img_resized.jpg\n",
      "File D:\\Study\\AIAgent\\AIPodcast\\output\\episode_test\\raining_window_img_resized.jpg already exists\n",
      "Image resized and saved to D:\\Study\\AIAgent\\AIPodcast\\output\\episode_test\\raining_window_img_resized.jpg\n",
      "File D:\\Study\\AIAgent\\AIPodcast\\output\\episode_test\\raining_window_img_resized.jpg already exists\n",
      "Image resized and saved to D:\\Study\\AIAgent\\AIPodcast\\output\\episode_test\\raining_window_img_resized.jpg\n",
      "File D:\\Study\\AIAgent\\AIPodcast\\output\\episode_test\\raining_window_img_resized.jpg already exists\n",
      "Image resized and saved to D:\\Study\\AIAgent\\AIPodcast\\output\\episode_test\\raining_window_img_resized.jpg\n",
      "File D:\\Study\\AIAgent\\AIPodcast\\output\\episode_test\\raining_window_img_resized.jpg already exists\n",
      "Image resized and saved to D:\\Study\\AIAgent\\AIPodcast\\output\\episode_test\\raining_window_img_resized.jpg\n",
      "File D:\\Study\\AIAgent\\AIPodcast\\output\\episode_test\\raining_window_img_resized.jpg already exists\n",
      "Image resized and saved to D:\\Study\\AIAgent\\AIPodcast\\output\\episode_test\\raining_window_img_resized.jpg\n",
      "File D:\\Study\\AIAgent\\AIPodcast\\output\\episode_test\\raining_window_img_resized.jpg already exists\n",
      "Image resized and saved to D:\\Study\\AIAgent\\AIPodcast\\output\\episode_test\\raining_window_img_resized.jpg\n",
      "File D:\\Study\\AIAgent\\AIPodcast\\output\\episode_test\\raining_window_img_resized.jpg already exists\n",
      "Image resized and saved to D:\\Study\\AIAgent\\AIPodcast\\output\\episode_test\\raining_window_img_resized.jpg\n",
      "File D:\\Study\\AIAgent\\AIPodcast\\output\\episode_test\\raining_window_img_resized.jpg already exists\n",
      "Image resized and saved to D:\\Study\\AIAgent\\AIPodcast\\output\\episode_test\\raining_window_img_resized.jpg\n",
      "File D:\\Study\\AIAgent\\AIPodcast\\output\\episode_test\\raining_window_img_resized.jpg already exists\n",
      "Image resized and saved to D:\\Study\\AIAgent\\AIPodcast\\output\\episode_test\\raining_window_img_resized.jpg\n",
      "File D:\\Study\\AIAgent\\AIPodcast\\output\\episode_test\\raining_window_img_resized.jpg already exists\n",
      "Image resized and saved to D:\\Study\\AIAgent\\AIPodcast\\output\\episode_test\\raining_window_img_resized.jpg\n",
      "File D:\\Study\\AIAgent\\AIPodcast\\output\\episode_test\\raining_window_img_resized.jpg already exists\n",
      "Image resized and saved to D:\\Study\\AIAgent\\AIPodcast\\output\\episode_test\\raining_window_img_resized.jpg\n",
      "File D:\\Study\\AIAgent\\AIPodcast\\output\\episode_test\\raining_window_img_resized.jpg already exists\n",
      "Image resized and saved to D:\\Study\\AIAgent\\AIPodcast\\output\\episode_test\\raining_window_img_resized.jpg\n",
      "File D:\\Study\\AIAgent\\AIPodcast\\output\\episode_test\\raining_window_img_resized.jpg already exists\n",
      "Image resized and saved to D:\\Study\\AIAgent\\AIPodcast\\output\\episode_test\\raining_window_img_resized.jpg\n",
      "Moviepy - Building video D:\\Study\\AIAgent\\AIPodcast\\output\\episode_test\\output.mp4.\n",
      "MoviePy - Writing audio in outputTEMP_MPY_wvf_snd.mp4\n"
     ]
    },
    {
     "name": "stderr",
     "output_type": "stream",
     "text": [
      "                                                                      \r"
     ]
    },
    {
     "name": "stdout",
     "output_type": "stream",
     "text": [
      "MoviePy - Done.\n",
      "Moviepy - Writing video D:\\Study\\AIAgent\\AIPodcast\\output\\episode_test\\output.mp4\n",
      "\n"
     ]
    },
    {
     "name": "stderr",
     "output_type": "stream",
     "text": [
      "                                                                \r"
     ]
    },
    {
     "name": "stdout",
     "output_type": "stream",
     "text": [
      "Moviepy - Done !\n",
      "Moviepy - video ready D:\\Study\\AIAgent\\AIPodcast\\output\\episode_test\\output.mp4\n",
      "Video created and saved to D:\\Study\\AIAgent\\AIPodcast\\output\\episode_test\\output.mp4\n"
     ]
    }
   ],
   "source": [
    "from podcast_data_preparation import PodcastDataPreparation\n",
    "from video_crafter import VideoCrafter\n",
    "\n",
    "\n",
    "data_json_path = 'D:\\Study\\AIAgent\\AIPodcast\\output\\\\test_long.json'\n",
    "output_dir = 'D:\\Study\\AIAgent\\AIPodcast\\output\\episode_test'\n",
    "video_width = 1920\n",
    "video_height = 1080\n",
    "key_frame_path = 'D:\\Study\\AIAgent\\AIPodcast\\\\assets\\\\raining_window_img.jpg'\n",
    "preparation = PodcastDataPreparation(data_json_path, output_dir, video_width, video_height, key_frame_path)\n",
    "video_info_config = preparation.prepare_data()\n",
    "\n",
    "crafter = VideoCrafter(video_info_config)\n",
    "crafter.create_video()\n",
    "\n"
   ]
  }
 ],
 "metadata": {
  "kernelspec": {
   "display_name": "Python 3",
   "language": "python",
   "name": "python3"
  },
  "language_info": {
   "codemirror_mode": {
    "name": "ipython",
    "version": 3
   },
   "file_extension": ".py",
   "mimetype": "text/x-python",
   "name": "python",
   "nbconvert_exporter": "python",
   "pygments_lexer": "ipython3",
   "version": "3.10.6"
  }
 },
 "nbformat": 4,
 "nbformat_minor": 2
}
