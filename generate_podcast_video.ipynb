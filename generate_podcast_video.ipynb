{
 "cells": [
  {
   "cell_type": "code",
   "execution_count": 1,
   "metadata": {},
   "outputs": [
    {
     "name": "stdout",
     "output_type": "stream",
     "text": [
      "File D:\\Study\\AIAgent\\AIPodcast\\output\\episode_test\\d22f1ca1f7854aa3980b530220731a50.mp3 already exists\n",
      "File D:\\Study\\AIAgent\\AIPodcast\\output\\episode_test\\d3df3441a9bc496eaffd100375aabd2e.mp3 already exists\n",
      "File D:\\Study\\AIAgent\\AIPodcast\\output\\episode_test\\04d2cdac3b11443f93319d0bcf85e806.mp3 already exists\n",
      "File D:\\Study\\AIAgent\\AIPodcast\\output\\episode_test\\卡通女生图片_resized.jpeg already exists\n",
      "Image resized and saved to D:\\Study\\AIAgent\\AIPodcast\\output\\episode_test\\卡通女生图片_resized.jpeg\n",
      "File D:\\Study\\AIAgent\\AIPodcast\\output\\episode_test\\卡通女生图片_resized.jpeg already exists\n",
      "Image resized and saved to D:\\Study\\AIAgent\\AIPodcast\\output\\episode_test\\卡通女生图片_resized.jpeg\n",
      "File D:\\Study\\AIAgent\\AIPodcast\\output\\episode_test\\卡通女生图片_resized.jpeg already exists\n",
      "Image resized and saved to D:\\Study\\AIAgent\\AIPodcast\\output\\episode_test\\卡通女生图片_resized.jpeg\n",
      "Moviepy - Building video D:\\Study\\AIAgent\\AIPodcast\\output\\episode_test\\output.mp4.\n",
      "MoviePy - Writing audio in outputTEMP_MPY_wvf_snd.mp4\n"
     ]
    },
    {
     "name": "stderr",
     "output_type": "stream",
     "text": [
      "                                                                    \r"
     ]
    },
    {
     "name": "stdout",
     "output_type": "stream",
     "text": [
      "MoviePy - Done.\n",
      "Moviepy - Writing video D:\\Study\\AIAgent\\AIPodcast\\output\\episode_test\\output.mp4\n",
      "\n"
     ]
    },
    {
     "name": "stderr",
     "output_type": "stream",
     "text": [
      "                                                              \r"
     ]
    },
    {
     "name": "stdout",
     "output_type": "stream",
     "text": [
      "Moviepy - Done !\n",
      "Moviepy - video ready D:\\Study\\AIAgent\\AIPodcast\\output\\episode_test\\output.mp4\n",
      "Video created and saved to D:\\Study\\AIAgent\\AIPodcast\\output\\episode_test\\output.mp4\n"
     ]
    }
   ],
   "source": [
    "from podcast_data_preparation import PodcastDataPreparation\n",
    "from video_crafter import VideoCrafter\n",
    "\n",
    "preparation = PodcastDataPreparation('D:\\Study\\AIAgent\\AIPodcast\\output\\podcast_data.json', 'D:\\Study\\AIAgent\\AIPodcast\\output\\episode_test')\n",
    "video_info_config = preparation.prepare_data()\n",
    "\n",
    "crafter = VideoCrafter(video_info_config)\n",
    "crafter.create_video()\n",
    "\n"
   ]
  }
 ],
 "metadata": {
  "kernelspec": {
   "display_name": "Python 3",
   "language": "python",
   "name": "python3"
  },
  "language_info": {
   "codemirror_mode": {
    "name": "ipython",
    "version": 3
   },
   "file_extension": ".py",
   "mimetype": "text/x-python",
   "name": "python",
   "nbconvert_exporter": "python",
   "pygments_lexer": "ipython3",
   "version": "3.10.6"
  }
 },
 "nbformat": 4,
 "nbformat_minor": 2
}
